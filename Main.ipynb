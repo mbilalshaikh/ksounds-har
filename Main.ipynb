{
 "cells": [
  {
   "cell_type": "markdown",
   "metadata": {},
   "source": [
    "## Create Ksounds dataset"
   ]
  },
  {
   "cell_type": "markdown",
   "metadata": {},
   "source": [
    "#### Get Ksounds Video data"
   ]
  },
  {
   "cell_type": "code",
   "execution_count": 22,
   "metadata": {},
   "outputs": [
    {
     "data": {
      "text/plain": [
       "(19384, 1344)"
      ]
     },
     "execution_count": 22,
     "metadata": {},
     "output_type": "execute_result"
    }
   ],
   "source": [
    "cwd = os.getcwd()\n",
    "\n",
    "#ksounds_path,ksounds_wavpath,ksounds_chromepath,ksounds_vid\n",
    "\n",
    "ksvid_train = ksounds_vid+'videos_train/'\n",
    "ksvid_val = ksounds_vid+'videos_val'\n",
    "len(glob.glob(ksvid_train+'/*/*.mp4')),len(glob.glob(ksvid_val+'/*/*.mp4'))"
   ]
  },
  {
   "cell_type": "markdown",
   "metadata": {},
   "source": [
    "## Convert mp4 to wav"
   ]
  },
  {
   "cell_type": "code",
   "execution_count": 55,
   "metadata": {},
   "outputs": [],
   "source": [
    "#imports\n",
    "import glob as glob \n",
    "import subprocess\n",
    "import pathlib\n",
    "import librosa\n",
    "import matplotlib.pyplot as plt\n",
    "import librosa.display\n",
    "import os \n",
    "from tqdm.notebook import trange, tqdm"
   ]
  },
  {
   "cell_type": "code",
   "execution_count": 60,
   "metadata": {},
   "outputs": [],
   "source": [
    "# paths\n",
    "ksounds_path = '/mnt/bdata/Data/bilal_data/ksounds/'\n",
    "ksounds_wavpath = '/mnt/bdata/Data/bilal_data/ksounds_wav/'\n",
    "ksounds_chromepath = '/mnt/bdata/Data/bilal_data/ksounds_chrom/'\n",
    "ksounds_vid = '/mnt/bdata/Data/bilal_data/mmaction_data/ksounds/'"
   ]
  },
  {
   "cell_type": "markdown",
   "metadata": {},
   "source": [
    "### Get Ksounds audio dataset"
   ]
  },
  {
   "cell_type": "code",
   "execution_count": null,
   "metadata": {},
   "outputs": [],
   "source": [
    "def create_path(wav_filepath):\n",
    "    path = wav_filepath.replace(wav_filepath.split('/')[-1],'')\n",
    "    p = pathlib.Path(path)\n",
    "    p.mkdir(parents=True, exist_ok=True)\n",
    "    print(path)\n",
    "    \n",
    "def gen_wav(src,dest):\n",
    "    #print(src)\n",
    "    command = \"ffmpeg -i '\"+src+\"' -ab 160k -ac 2 -ar 44100 -vn '\"+dest+\"'\"\n",
    "    subprocess.call(command,shell=True)\n",
    "\n",
    "def gen_chrom(src,dest):\n",
    "    x , sr = librosa.load(src,sr=None)\n",
    "    #print(type(x), type(sr),x.shape, sr)\n",
    "    #chromagram\n",
    "    hop_length = 512\n",
    "    chromagram = librosa.feature.chroma_stft(x, sr=sr, hop_length=hop_length)\n",
    "    plt.figure(figsize=(5, 5))\n",
    "    plt.axis('off')\n",
    "    librosa.display.specshow(chromagram, x_axis='time', y_axis='chroma', hop_length=hop_length, cmap='coolwarm')            \n",
    "    #print(wav_filepath,chrom_filepath)\n",
    "    plt.savefig(dest)\n",
    "    #im = Image.open('test.png')\n",
    "    #width, height = im.size    \n",
    "    plt.close('all')\n",
    "\n",
    "def generate_wav(folder):\n",
    "    files = glob.glob(folder+'*/*/*.mp4')\n",
    "\n",
    "    for f in tqdm(files, desc='Generating Wav files'):\n",
    "        mp4_filepath = f\n",
    "        wav_filepath = mp4_filepath.split('ksounds')[0]+'ksounds_wav'+mp4_filepath.split('ksounds')[1].split('.')[0]+'.wav'\n",
    "        chrom_filepath = wav_filepath.split('ksounds_wav')[0]+'ksounds_chrom'+wav_filepath.split('ksounds_wav')[1].split('.')[0]+'.png'   \n",
    "        #print(mp4_filepath)\n",
    "        #print(wav_filepath)\n",
    "        \n",
    "\n",
    "        create_path(wav_filepath)\n",
    "        create_path(chrom_filepath)\n",
    "        gen_wav(mp4_filepath,wav_filepath)\n",
    "        gen_chrom(wav_filepath,chrom_filepath)   \n",
    "    #print(len(files))\n"
   ]
  },
  {
   "cell_type": "code",
   "execution_count": 54,
   "metadata": {},
   "outputs": [
    {
     "name": "stderr",
     "output_type": "stream",
     "text": [
      "100%|██████████| 20728/20728 [22:32<00:00, 15.33it/s]  \n"
     ]
    }
   ],
   "source": [
    "generate_wav(ksounds_path)"
   ]
  },
  {
   "cell_type": "code",
   "execution_count": 64,
   "metadata": {},
   "outputs": [
    {
     "data": {
      "text/plain": [
       "(20728, 20693, 2694)"
      ]
     },
     "execution_count": 64,
     "metadata": {},
     "output_type": "execute_result"
    }
   ],
   "source": [
    "mp4_files = glob.glob(ksounds_path+'*/*/*.mp4')\n",
    "wav_files = glob.glob(ksounds_wavpath+'*/*/*.wav')\n",
    "chrom_files = glob.glob(ksounds_chromepath+'*/*/*.png')\n",
    "\n",
    "\n",
    "len(mp4_files), len(wav_files),len(chrom_files)"
   ]
  },
  {
   "cell_type": "markdown",
   "metadata": {},
   "source": [
    "## generate wav to chromagram"
   ]
  },
  {
   "cell_type": "code",
   "execution_count": null,
   "metadata": {},
   "outputs": [],
   "source": [
    "# wav to png (chromagram)\n",
    "def generate_chrom(folder):\n",
    "    files = glob.glob(folder+'*/*/*.wav')\n",
    "    print(len(files))\n",
    "    pass\n",
    "    for audio in tqdm(files,desc='audio to chromagram'):   \n",
    "        \n",
    "        wav_filepath = audio        \n",
    "        chrom_filepath = wav_filepath.split('ksounds_wav')[0]+'ksounds_chrom'+wav_filepath.split('ksounds_wav')[1].split('.')[0]+'.png'    \n",
    "\n",
    "        x , sr = librosa.load(audio,sr=None)\n",
    "        #print(type(x), type(sr),x.shape, sr)\n",
    "        #chromagram\n",
    "        hop_length = 512\n",
    "        chromagram = librosa.feature.chroma_stft(x, sr=sr, hop_length=hop_length)\n",
    "        plt.figure(figsize=(5, 5))\n",
    "        plt.axis('off')\n",
    "        librosa.display.specshow(chromagram, x_axis='time', y_axis='chroma', hop_length=hop_length, cmap='coolwarm')        \n",
    "        create_path(chrom_filepath)\n",
    "        #print(wav_filepath,chrom_filepath)\n",
    "        plt.savefig(chrom_filepath)\n",
    "        #im = Image.open('test.png')\n",
    "        #width, height = im.size    \n",
    "        plt.close('all')\n"
   ]
  },
  {
   "cell_type": "code",
   "execution_count": null,
   "metadata": {},
   "outputs": [],
   "source": [
    "generate_chrom(ksounds_wavpath)    "
   ]
  },
  {
   "cell_type": "markdown",
   "metadata": {},
   "source": [
    "## Extract Features"
   ]
  },
  {
   "cell_type": "code",
   "execution_count": null,
   "metadata": {},
   "outputs": [],
   "source": [
    "## vid features from TSN\n"
   ]
  },
  {
   "cell_type": "code",
   "execution_count": 65,
   "metadata": {},
   "outputs": [
    {
     "data": {
      "text/plain": [
       "('/mnt/bdata/Data/bilal_data/ksounds/',\n",
       " '/mnt/bdata/Data/bilal_data/ksounds_wav/',\n",
       " '/mnt/bdata/Data/bilal_data/ksounds_chrom/',\n",
       " '/mnt/bdata/Data/bilal_data/mmaction_data/ksounds/')"
      ]
     },
     "execution_count": 65,
     "metadata": {},
     "output_type": "execute_result"
    }
   ],
   "source": [
    "ksounds_path,ksounds_wavpath,ksounds_chromepath,ksounds_vid"
   ]
  }
 ],
 "metadata": {
  "interpreter": {
   "hash": "3fd88795326e6bc8ec526ae1a7e0f8acbdab9f97c60904165df3e5b2af06e756"
  },
  "kernelspec": {
   "display_name": "Python 3.8.8 ('pytorchpy38')",
   "language": "python",
   "name": "python3"
  },
  "language_info": {
   "codemirror_mode": {
    "name": "ipython",
    "version": 3
   },
   "file_extension": ".py",
   "mimetype": "text/x-python",
   "name": "python",
   "nbconvert_exporter": "python",
   "pygments_lexer": "ipython3",
   "version": "3.8.8"
  },
  "orig_nbformat": 4
 },
 "nbformat": 4,
 "nbformat_minor": 2
}
