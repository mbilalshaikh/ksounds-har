{
 "cells": [
  {
   "cell_type": "code",
   "execution_count": null,
   "metadata": {},
   "outputs": [],
   "source": [
    "#imports\n",
    "import glob as glob \n",
    "import subprocess\n",
    "import pathlib\n",
    "import librosa\n",
    "import matplotlib.pyplot as plt\n",
    "import librosa.display\n",
    "import os \n",
    "import shutil\n",
    "from tqdm.notebook import trange, tqdm\n",
    "import logging\n",
    "\n",
    "# Check nvcc version\n",
    "!nvcc -V\n",
    "# Check GCC version\n",
    "!gcc --version\n"
   ]
  },
  {
   "cell_type": "code",
   "execution_count": null,
   "metadata": {},
   "outputs": [],
   "source": [
    "# paths\n",
    "ksounds_path = '/mnt/bdata/Data/bilal_data/ksounds/'\n",
    "ksounds_wavpath = '/mnt/bdata/Data/bilal_data/ksounds_wav/'\n",
    "ksounds_chromepath = '/mnt/bdata/Data/bilal_data/ksounds_chrom/'\n",
    "ksounds_vid = '/mnt/bdata/Data/bilal_data/mmaction_data/ksounds/'"
   ]
  },
  {
   "cell_type": "markdown",
   "metadata": {},
   "source": [
    "## Create Ksounds dataset"
   ]
  },
  {
   "cell_type": "markdown",
   "metadata": {},
   "source": [
    "#### Get Ksounds Video data"
   ]
  },
  {
   "cell_type": "code",
   "execution_count": null,
   "metadata": {},
   "outputs": [],
   "source": [
    "cwd = os.getcwd()\n",
    "\n",
    "#ksounds_path,ksounds_wavpath,ksounds_chromepath,ksounds_vid\n",
    "\n",
    "ksvid_train = ksounds_vid+'train/'\n",
    "ksvid_val = ksounds_vid+'val'\n",
    "len(glob.glob(ksvid_train+'/*/*.mp4')),len(glob.glob(ksvid_val+'/*/*.mp4'))\n",
    "\n",
    "ksvid_train = ksounds_wavpath+'train/'\n",
    "ksvid_val = ksounds_wavpath+'val/'\n",
    "len(glob.glob(ksvid_train+'/*/*.wav')),len(glob.glob(ksvid_val+'/*/*.wav'))"
   ]
  },
  {
   "cell_type": "code",
   "execution_count": null,
   "metadata": {},
   "outputs": [],
   "source": [
    "ksounds = 'blowing nose, bowling, chopping wood, ripping paper, shuffling cards, singing, tapping pen, typing, blowing out, dribbling ball, laughing, mowing the lawn by pushing lawnmower, shoveling snow, stomping, tap dancing, tapping guitar, tickling, fingerpicking, patting, playing accordion, playing bagpipes, playing bass guitar, playing clarinet, playing drums,playing guitar, playing harmonica, playing keyboard, playing organ, playing piano, playing saxophone, playing trombone, playing trumpet, playing violin, playing xylophone'\n",
    "ksounds = ksounds.replace(', ',',')\n",
    "ksounds = ksounds.split(',')\n",
    "len(ksounds)"
   ]
  },
  {
   "cell_type": "code",
   "execution_count": null,
   "metadata": {},
   "outputs": [],
   "source": [
    "# get list of k400 train files \n",
    "k400train_path = '/mnt/bdata/Data/bilal_data/mmaction_data/kinetics400/videos_train'\n",
    "k400train_files = glob.glob('/mnt/bdata/Data/bilal_data/mmaction_data/kinetics400/videos_train'+'/*/*.mp4')\n",
    "#print(len(k400train_files))\n",
    "# get ksounds train folder the destination\n",
    "ksoundstrain_path = '/mnt/bdata/Data/bilal_data/mmaction_data/ksounds/train'\n",
    "# loop through k400 train \n",
    "classes = []\n",
    "ctr=0\n",
    "for file in k400train_files:\n",
    "    # extract class name \n",
    "    class_name = file.split('/')[-2]\n",
    "    classes.append(class_name)\n",
    "    #print(class_name)    \n",
    "    # check if the class name is same as ksounds \n",
    "\n",
    "    if class_name in ksounds:\n",
    "        # if yes : copy that into same folder in ksounds        \n",
    "        ctr = ctr +1\n",
    "        # create destination file path         \n",
    "\n",
    "        dest = file.replace('kinetics400','ksounds')\n",
    "        dest = dest.replace('videos_train','train')\n",
    "        print(dest)\n",
    "        create_path(dest)\n",
    "        shutil.copy(file,dest)\n",
    "        logging.info(ctr)\n",
    "\n",
    "        \n",
    "    \n",
    "    # else : just pass\n",
    "    \n",
    "\n",
    "    #break\n",
    "\n",
    "# for classes in ksounds \n",
    "# extract wav file\n",
    "#k400train_files[0]#,ksounds\n",
    "len(set(classes)),ctr"
   ]
  },
  {
   "cell_type": "code",
   "execution_count": 1,
   "metadata": {},
   "outputs": [
    {
     "ename": "NameError",
     "evalue": "name 'glob' is not defined",
     "output_type": "error",
     "traceback": [
      "\u001b[0;31m---------------------------------------------------------------------------\u001b[0m",
      "\u001b[0;31mNameError\u001b[0m                                 Traceback (most recent call last)",
      "\u001b[0;32m<ipython-input-1-388569d10a1e>\u001b[0m in \u001b[0;36m<module>\u001b[0;34m\u001b[0m\n\u001b[1;32m      1\u001b[0m \u001b[0;31m# for ksounds remove video files that are not in audio\u001b[0m\u001b[0;34m\u001b[0m\u001b[0;34m\u001b[0m\u001b[0;34m\u001b[0m\u001b[0m\n\u001b[1;32m      2\u001b[0m \u001b[0maudio_path\u001b[0m \u001b[0;34m=\u001b[0m \u001b[0;34m'/mnt/bdata/Data/bilal_data/ksounds_wav/'\u001b[0m\u001b[0;34m\u001b[0m\u001b[0;34m\u001b[0m\u001b[0m\n\u001b[0;32m----> 3\u001b[0;31m \u001b[0mfiles\u001b[0m\u001b[0;34m=\u001b[0m\u001b[0mglob\u001b[0m\u001b[0;34m.\u001b[0m\u001b[0mglob\u001b[0m\u001b[0;34m(\u001b[0m\u001b[0maudio_path\u001b[0m\u001b[0;34m+\u001b[0m\u001b[0;34m'/*'\u001b[0m\u001b[0;34m)\u001b[0m\u001b[0;34m\u001b[0m\u001b[0;34m\u001b[0m\u001b[0m\n\u001b[0m\u001b[1;32m      4\u001b[0m \u001b[0mprint\u001b[0m\u001b[0;34m(\u001b[0m\u001b[0mfiles\u001b[0m\u001b[0;34m)\u001b[0m\u001b[0;34m\u001b[0m\u001b[0;34m\u001b[0m\u001b[0m\n",
      "\u001b[0;31mNameError\u001b[0m: name 'glob' is not defined"
     ]
    }
   ],
   "source": [
    "# for ksounds remove video files that are not in audio \n",
    "audio_path = '/mnt/bdata/Data/bilal_data/ksounds_wav/'\n",
    "files=glob.glob(audio_path+'/*')\n",
    "print(files)"
   ]
  },
  {
   "cell_type": "markdown",
   "metadata": {},
   "source": [
    "## Convert mp4 to wav"
   ]
  },
  {
   "cell_type": "markdown",
   "metadata": {},
   "source": [
    "### Get Ksounds audio dataset"
   ]
  },
  {
   "cell_type": "code",
   "execution_count": null,
   "metadata": {},
   "outputs": [],
   "source": [
    "def create_path(wav_filepath):\n",
    "    path = wav_filepath.replace(wav_filepath.split('/')[-1],'')\n",
    "    p = pathlib.Path(path)\n",
    "    p.mkdir(parents=True, exist_ok=True)\n",
    "    print(path)\n",
    "    \n",
    "def gen_wav(src,dest):\n",
    "    #print(src)\n",
    "    command = \"ffmpeg -i '\"+src+\"' -ab 160k -ac 2 -ar 44100 -vn '\"+dest+\"'\"\n",
    "    subprocess.call(command,shell=True)\n",
    "\n",
    "def gen_chrom(src,dest):\n",
    "    x , sr = librosa.load(src,sr=None)\n",
    "    #print(type(x), type(sr),x.shape, sr)\n",
    "    #chromagram\n",
    "    hop_length = 512\n",
    "    chromagram = librosa.feature.chroma_stft(x, sr=sr, hop_length=hop_length)\n",
    "    plt.figure(figsize=(5, 5))\n",
    "    plt.axis('off')\n",
    "    librosa.display.specshow(chromagram, x_axis='time', y_axis='chroma', hop_length=hop_length, cmap='coolwarm')            \n",
    "    #print(wav_filepath,chrom_filepath)\n",
    "    plt.savefig(dest)\n",
    "    #im = Image.open('test.png')\n",
    "    #width, height = im.size    \n",
    "    plt.close('all')\n",
    "\n",
    "def generate_wav(folder):\n",
    "    files = glob.glob(folder+'*/*/*.mp4')\n",
    "\n",
    "    for f in tqdm(files, desc='Generating Wav files'):\n",
    "        mp4_filepath = f\n",
    "        wav_filepath = mp4_filepath.split('ksounds')[0]+'ksounds_wav'+mp4_filepath.split('ksounds')[1].split('.')[0]+'.wav'\n",
    "        chrom_filepath = wav_filepath.split('ksounds_wav')[0]+'ksounds_chrom'+wav_filepath.split('ksounds_wav')[1].split('.')[0]+'.png'   \n",
    "        #print(mp4_filepath)\n",
    "        #print(wav_filepath)\n",
    "        \n",
    "\n",
    "        create_path(wav_filepath)\n",
    "        create_path(chrom_filepath)\n",
    "        gen_wav(mp4_filepath,wav_filepath)\n",
    "        gen_chrom(wav_filepath,chrom_filepath)   \n",
    "    #print(len(files))\n"
   ]
  },
  {
   "cell_type": "code",
   "execution_count": null,
   "metadata": {},
   "outputs": [],
   "source": [
    "generate_wav(ksounds_path)"
   ]
  },
  {
   "cell_type": "code",
   "execution_count": null,
   "metadata": {},
   "outputs": [],
   "source": [
    "mp4_files = glob.glob(ksounds_path+'*/*/*.mp4')\n",
    "wav_files = glob.glob(ksounds_wavpath+'*/*/*.wav')\n",
    "chrom_files = glob.glob(ksounds_chromepath+'*/*/*.png')\n",
    "\n",
    "\n",
    "len(mp4_files), len(wav_files),len(chrom_files)"
   ]
  },
  {
   "cell_type": "markdown",
   "metadata": {},
   "source": [
    "## generate wav to chromagram"
   ]
  },
  {
   "cell_type": "code",
   "execution_count": null,
   "metadata": {},
   "outputs": [],
   "source": [
    "# wav to png (chromagram)\n",
    "def generate_chrom(folder):\n",
    "    files = glob.glob(folder+'*/*/*.wav')\n",
    "    print(len(files))\n",
    "    pass\n",
    "    for audio in tqdm(files,desc='audio to chromagram'):   \n",
    "        \n",
    "        wav_filepath = audio        \n",
    "        chrom_filepath = wav_filepath.split('ksounds_wav')[0]+'ksounds_chrom'+wav_filepath.split('ksounds_wav')[1].split('.')[0]+'.png'    \n",
    "\n",
    "        x , sr = librosa.load(audio,sr=None)\n",
    "        #print(type(x), type(sr),x.shape, sr)\n",
    "        #chromagram\n",
    "        hop_length = 512\n",
    "        chromagram = librosa.feature.chroma_stft(x, sr=sr, hop_length=hop_length)\n",
    "        plt.figure(figsize=(5, 5))\n",
    "        plt.axis('off')\n",
    "        librosa.display.specshow(chromagram, x_axis='time', y_axis='chroma', hop_length=hop_length, cmap='coolwarm')        \n",
    "        create_path(chrom_filepath)\n",
    "        #print(wav_filepath,chrom_filepath)\n",
    "        plt.savefig(chrom_filepath)\n",
    "        #im = Image.open('test.png')\n",
    "        #width, height = im.size    \n",
    "        plt.close('all')\n"
   ]
  },
  {
   "cell_type": "code",
   "execution_count": null,
   "metadata": {},
   "outputs": [],
   "source": [
    "generate_chrom(ksounds_wavpath)    "
   ]
  },
  {
   "cell_type": "markdown",
   "metadata": {},
   "source": [
    "## Extract Features"
   ]
  },
  {
   "cell_type": "code",
   "execution_count": null,
   "metadata": {},
   "outputs": [],
   "source": [
    "## vid features from TSN\n"
   ]
  },
  {
   "cell_type": "code",
   "execution_count": null,
   "metadata": {},
   "outputs": [],
   "source": [
    "ksounds_path,ksounds_wavpath,ksounds_chromepath,ksounds_vid"
   ]
  },
  {
   "cell_type": "markdown",
   "metadata": {},
   "source": [
    "## setup ksounds dataset video"
   ]
  },
  {
   "cell_type": "code",
   "execution_count": null,
   "metadata": {},
   "outputs": [],
   "source": [
    "all = glob.glob(ksounds_vid+'videos/*')\n",
    "val = glob.glob(ksounds_vid+'val/*/*')\n",
    "\n",
    "\n",
    "\n",
    "val_files = []\n",
    "for v in val:\n",
    "    vname = v.split('/')[-1]      \n",
    "    print(vname)\n",
    "    val_files.append(vname)\n",
    "    break\n",
    "\n",
    "\n",
    "print(len(val_files))\n",
    "\n",
    "for f in  all:\n",
    "    fname = f.split('/')[-1]  \n",
    "    print(fname)\n",
    "    if f in val_files:\n",
    "        print('True')\n",
    "\n",
    "    break\n",
    "\n",
    "\n",
    "len(val),len(all)"
   ]
  },
  {
   "cell_type": "markdown",
   "metadata": {},
   "source": [
    "## Generate TSN compatible files"
   ]
  },
  {
   "cell_type": "code",
   "execution_count": 2,
   "metadata": {},
   "outputs": [
    {
     "ename": "NameError",
     "evalue": "name 'ksounds' is not defined",
     "output_type": "error",
     "traceback": [
      "\u001b[0;31m---------------------------------------------------------------------------\u001b[0m",
      "\u001b[0;31mNameError\u001b[0m                                 Traceback (most recent call last)",
      "\u001b[0;32m<ipython-input-2-cec058bf6f67>\u001b[0m in \u001b[0;36m<module>\u001b[0;34m\u001b[0m\n\u001b[0;32m----> 1\u001b[0;31m \u001b[0mksounds\u001b[0m\u001b[0;34m\u001b[0m\u001b[0;34m\u001b[0m\u001b[0m\n\u001b[0m",
      "\u001b[0;31mNameError\u001b[0m: name 'ksounds' is not defined"
     ]
    }
   ],
   "source": [
    "ksounds"
   ]
  }
 ],
 "metadata": {
  "interpreter": {
   "hash": "3fd88795326e6bc8ec526ae1a7e0f8acbdab9f97c60904165df3e5b2af06e756"
  },
  "kernelspec": {
   "display_name": "Python 3.8.8 ('pytorchpy38')",
   "language": "python",
   "name": "python3"
  },
  "language_info": {
   "codemirror_mode": {
    "name": "ipython",
    "version": 3
   },
   "file_extension": ".py",
   "mimetype": "text/x-python",
   "name": "python",
   "nbconvert_exporter": "python",
   "pygments_lexer": "ipython3",
   "version": "3.8.8"
  },
  "orig_nbformat": 4
 },
 "nbformat": 4,
 "nbformat_minor": 2
}
